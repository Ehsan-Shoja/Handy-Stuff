{
 "cells": [
  {
   "cell_type": "markdown",
   "metadata": {},
   "source": [
    "# O'Reilly's Hands-On Machine Learning\n",
    "\n",
    "This is a summary of O'Reilly's Hands-On Machine Learning with Scikit-Learn, Keras, and TensorFlow by Aurélien Géron.\n",
    "\n",
    "It is intended for educational purposes and to aid in recalling key concepts from the book. While this summary can serve as a helpful resource, particularly for those already familiar with machine learning concepts, reading the full book is recommended for a deeper and more comprehensive understanding.\n",
    "\n",
    "Compiled By: [Ehsan Shoja](https://github.com/Ehsan-Shoja)\n",
    "\n",
    "[Amazon Link](https://www.amazon.com/Hands-Machine-Learning-Scikit-Learn-TensorFlow/dp/1098125975/ref=sr_1_1?dib=eyJ2IjoiMSJ9.0Jm1bLoXUBA_cK-tar7HW1L7KzUCRFLa7mcRAFq-rLTy9PEEcfbJngB3j_3uBdmXAbwWBS7I-Kqi_atom4RZU0Y1xye91MLl2TdyDVE4Kf8l0woo02WSfml0mcQS9Kng0Z1MByj7BO6420rod2hLJXz_V7DYEZCSQsolJGvkH3S9dpanNESObVQXSzEmsqvSUe9E3cADzok_s-6YKiHEjlZbkIaoIenfvpU8C2JNWWY.6EzVvN3KT6UkEwbAuKmINWOtFcbxhk6ZMQtYOse71hg&dib_tag=se&keywords=Hands-Machine-Learning-Scikit-Learn-Tensorflow&qid=1727339966&sr=8-1)\n",
    "\n"
   ]
  },
  {
   "cell_type": "markdown",
   "metadata": {},
   "source": [
    "\n",
    "---\n",
    "\n",
    "### Key Terms from the Chapter\n",
    "\n",
    "- **Training Set**: The dataset used by the system to learn.\n",
    "- **Training Instance (or Sample)**: Each individual example in the training set.\n",
    "- **Model**: The part of the machine learning system responsible for learning and making predictions.\n",
    "- **Data Mining**: The process of discovering hidden patterns in large datasets, where machine learning excels.\n",
    "- **Regression**: A task that involves predicting a continuous value.\n",
    "- **Classification**: A task focused on predicting discrete outputs, such as True or False.\n",
    "- **Clustering**: Grouping input data without predefined labels.\n",
    "- **Hierarchical Clustering**: Subdividing groups into smaller, more specific clusters.\n",
    "- **Feature**: A specific attribute or property of the input data.\n",
    "- **Target**: The output in a regression task.\n",
    "- **Label**: The output in a classification task.\n",
    "- **Transfer Learning**: The practice of transferring knowledge from one task to another, especially useful in deep learning (i.e., neural networks with many layers).\n",
    "- **Offline Learning (Batch Learning)**: Training the model first, then using the trained model for predictions.\n",
    "- **Online Learning**: Continuously training the model as new data comes in.\n",
    "- **Out-of-Core Learning**: Training models on datasets that are too large to fit in memory. This is usually done incrementally and offline.\n",
    "- **Learning Rate (in Online Learning)**: A parameter that defines how quickly the model should adapt to new data.\n",
    "- **Utility Function (or Fitness Function)**: A function that measures how well the model is performing.\n",
    "- **Cost Function**: A function that measures how poorly the model is performing.\n",
    "- **Inference**: Using the trained model to make predictions on new data.\n",
    "- **Feature Engineering**: The process of refining and improving the input data to enhance model performance.\n",
    "- **Feature Selection**: Identifying and selecting the most important and relevant features for model training.\n",
    "- **Feature Extraction**: Transforming or combining existing features into more useful ones.\n",
    "- **Regularization**: A technique used to constrain a model and make it simpler, reducing the risk of overfitting.\n",
    "\n",
    "---"
   ]
  },
  {
   "cell_type": "markdown",
   "metadata": {},
   "source": [
    "# Chapter One"
   ]
  },
  {
   "cell_type": "markdown",
   "metadata": {},
   "source": [
    "Machine Learning has been around for decades, initially applied in specialized fields like **optical character recognition (OCR)**, which allows machines to convert images of text into machine-readable text. One of the earliest mainstream machine learning applications was the **spam filter**, popularized in the 1990s to classify emails as spam or ham (non-spam). Since then, ML has expanded into various other applications, including:\n",
    "\n",
    "- **Voice prompts** (e.g., virtual assistants like Siri or Alexa)\n",
    "- **Automatic translation** (e.g., Google Translate)\n",
    "- **Image search** (e.g., recognizing and searching for objects in images)\n",
    "- **Product recommendations** (e.g., personalized suggestions on e-commerce platforms like Amazon)\n",
    "\n",
    "These applications highlight the growing role of machine learning in everyday technology."
   ]
  },
  {
   "cell_type": "markdown",
   "metadata": {},
   "source": [
    "**What Is Machine Learning?**\n",
    "\n",
    "Machine learning is the science (and art) of programming computers to learn from data, allowing systems to improve their performance without being explicitly programmed for each task. In essence, rather than relying on a fixed set of instructions, the machine learns patterns from data and adapts.\n",
    "\n",
    "A more general definition was given by Arthur Samuel in 1959:\n",
    "> “Machine learning is the field of study that gives computers the ability to learn without being explicitly programmed.”\n",
    "\n",
    "This captures the core idea: computers can improve at tasks by learning from experience, much like humans do."
   ]
  },
  {
   "cell_type": "markdown",
   "metadata": {},
   "source": [
    "**What is a training set?**\n",
    "\n",
    "The **training set** is the collection of examples that the machine learning system uses to learn. It is the dataset that the model is trained on to discover patterns and relationships in the data.\n",
    "\n",
    "**What is a training instance?**\n",
    "\n",
    "Each individual example in the training set is called a **training instance** (or sample). It represents a single data point or input that the model uses to learn from.\n",
    "\n",
    "**What is a model?**\n",
    "\n",
    "A **model** is the part of a machine learning system responsible for learning from the training set and making predictions. Examples of models include **neural networks**, **random forests**, and **linear regression models**. The model identifies patterns in the training data and uses these learned patterns to make predictions on new data."
   ]
  },
  {
   "cell_type": "markdown",
   "metadata": {},
   "source": [
    "A model has three components:\n",
    "\n",
    "1.    T (Task) – The task the model is used for.\n",
    "2.    E (Experience) – The training data used to learn from.\n",
    "3.    P (Performance) – The performance measure used to evaluate the model, which depends on the type of machine learning application. For example, in classification tasks, this is typically called accuracy."
   ]
  },
  {
   "cell_type": "markdown",
   "metadata": {},
   "source": [
    "A comparison is made between **traditional programming** and **machine learning (ML)** models for spam detection. Traditional programming requires explicitly defining a large set of rules, which is time-consuming and complex. In contrast, an ML model learns from data, offering the potential for greater accuracy. Additionally, traditional programming is harder to maintain, as it demands frequent updates to accommodate new spam patterns, while ML models adapt automatically as they are exposed to new data.\n",
    "\n",
    "Another area where **machine learning** shines is in tackling problems that are too complex for traditional approaches or have no known algorithm, such as **speech recognition**. Machine learning also uncovers patterns and hidden information that might otherwise be missed.\n",
    "\n",
    "**What is data mining?**\n",
    "\n",
    "Digging into large amounts of data to discover hidden patterns is called **data mining**, and machine learning excels at this. \n",
    "\n",
    "To summarize, **machine learning** is particularly effective for:\n",
    "\n",
    "- Problems where existing solutions require extensive fine-tuning or long lists of rules (an ML model can simplify code and outperform traditional approaches)\n",
    "- Complex problems where traditional methods fail to provide effective solutions (ML techniques can potentially find new solutions)\n",
    "- Fluctuating environments (ML models can be easily retrained on new data, keeping them up-to-date)\n",
    "- Gaining insights into complex problems and analyzing large datasets"
   ]
  },
  {
   "cell_type": "markdown",
   "metadata": {},
   "source": [
    "## Examples of Applications"
   ]
  },
  {
   "cell_type": "markdown",
   "metadata": {},
   "source": [
    "Image classification (CNN, Transformers): Analyzing images of products on a production line to automatically classify them, can be done either by Convolutional neural network (CNN, chap 14) or transformers (chap 16)\n",
    "\n",
    "Semantic image segmentation (CNN, Transformers): Detecting tumors in brain scans, each pixel in the image is classified (as we want to determine the exact location and shape of tumors), typically using CNNs or transformers.\n",
    "\n",
    "Natural language processing (NLP)/ text classification (RNN, CNN, Transformers): Automatically classifying news articles, Automatically flagging offensive comments on discussion forums, Summarizing long documents automatically, Creating a chatbot or a personal assistant, can be tackled using recurrent neural networks (RNNs) and CNNs, but transformers work even better (see Chapter 16). there are NLP components for these task such as natural language understanding (NLU) and question-answering modules.\n",
    "\n",
    "Regression task: Forecasting your company’s revenue next year, based on many performance metrics, linear regression or polynomial regression model (see Chapter 4), a regression support vector machine (see Chapter 5), a regression random forest (see Chapter 7), or an artificial neural network (see Chapter 10). If you want to take into account sequences of past performance metrics, you may want to use RNNs, CNNs, or transformers (see Chapters 15 and 16)\n",
    "\n",
    "Speech recognition (CNN, Transformers): Making your app react to voice commands, requires processing audio samples: since they are long and complex sequences, they are typically processed using RNNs, CNNs, or transformers (see Chapters 15 and 16)\n",
    "\n",
    "Anomaly detection (GMM, autoencoders): Detecting credit card fraud, can be tackled using isolation forests, Gaussian mixture models (see Chapter 9), or autoencoders (see Chapter 17)\n",
    "\n",
    "Clustering (k-means, DBSCAN): Segmenting clients based on their purchases so that you can design a different marketing\n",
    "strategy for each segment, can be achieved using k-means, DBSCAN, and more (see Chapter 9)\n",
    "\n",
    "Data visualization (dimensionality reduction,): Representing a complex, high-dimensional dataset in a clear and insightful diagram\n",
    "\n",
    "Recommender system (ANN): Recommending a product that a client may be interested in, based on past purchases, One approach is to feed past purchases (and other information about the client) to an artificial neural network (see Chapter 10), and get it to output the most likely next purchase. This neural net would typically be trained on past sequences of purchases across all clients.\n",
    "\n",
    "Reinforcement learning: Building an intelligent bot for a game, a branch of machine learning that trains agents (such as bots) to pick the actions that will maximize their rewards over time (e.g., a bot may get a reward every time the player loses some life points), within a given environment (such as the game). The famous AlphaGo program that beat the world champion at the game of Go was built using RL"
   ]
  },
  {
   "cell_type": "markdown",
   "metadata": {},
   "source": [
    "## Examples of Applications\n",
    "\n",
    "- **Image Classification (CNN, Transformers)**: Analyzing products on a production line to automatically classify them. This task is typically performed using Convolutional Neural Networks (CNNs) or transformers (see Chapters 14 and 16).\n",
    "\n",
    "- **Semantic Image Segmentation (CNN, Transformers)**: Detecting tumors in brain scans by classifying each pixel in the image to determine the exact location and shape of the tumor. CNNs or transformers are commonly used.\n",
    "\n",
    "- **Natural Language Processing (NLP)/Text Classification (RNN, CNN, Transformers)**: Tasks such as automatically classifying news articles, flagging offensive comments, summarizing documents, or creating chatbots. Recurrent Neural Networks (RNNs), CNNs, and transformers (Chapter 16) are used for these tasks, often utilizing modules like Natural Language Understanding (NLU) and question-answering systems.\n",
    "\n",
    "- **Regression Tasks**: Forecasting a company’s revenue based on past performance metrics. This can be tackled using linear regression, polynomial regression (Chapter 4), regression support vector machines (Chapter 5), random forests (Chapter 7), or artificial neural networks (Chapter 10). For sequence data, RNNs, CNNs, or transformers may be better suited (Chapters 15 and 16).\n",
    "\n",
    "- **Speech Recognition (CNN, Transformers)**: Enabling applications to respond to voice commands by processing complex audio sequences. This is done using RNNs, CNNs, or transformers (Chapters 15 and 16).\n",
    "\n",
    "- **Anomaly Detection (GMM, Autoencoders)**: Detecting anomalies such as credit card fraud using isolation forests, Gaussian Mixture Models (GMM, Chapter 9), or autoencoders (Chapter 17).\n",
    "\n",
    "- **Clustering (K-Means, DBSCAN)**: Segmenting clients based on their purchasing behavior to customize marketing strategies. This can be achieved using k-means, DBSCAN, or similar clustering algorithms (Chapter 9).\n",
    "\n",
    "- **Data Visualization (Dimensionality Reduction)**: Simplifying and representing complex, high-dimensional datasets through dimensionality reduction techniques for clear, insightful visualizations.\n",
    "\n",
    "- **Recommender Systems (ANN)**: Suggesting products to clients based on past purchases. This can be accomplished by feeding previous purchase data into an Artificial Neural Network (ANN, Chapter 10) to predict future preferences.\n",
    "\n",
    "- **Reinforcement Learning (RL)**: Training intelligent agents or bots, such as a game-playing bot that optimizes its actions to maximize rewards. AlphaGo, which famously defeated the world champion in Go, used RL for decision-making."
   ]
  },
  {
   "cell_type": "markdown",
   "metadata": {},
   "source": [
    "## Types of Machine Learning Systems\n",
    "\n",
    "Machine learning systems can be categorized in multiple ways. Each system falls into one category from the following groups:\n",
    "\n",
    "**Category 1: Supervision Type**\n",
    "- **Supervised**: The model is trained on labeled data (input-output pairs).\n",
    "- **Unsupervised**: The model is trained on unlabeled data, aiming to find hidden patterns.\n",
    "- **Semi-supervised**: A mix of a small amount of labeled data and a large amount of unlabeled data.\n",
    "- **Self-supervised**: A specific case of supervised learning where labels are generated from the data itself.\n",
    "- **Other types**: Include reinforcement learning, where agents learn by interacting with an environment.\n",
    "\n",
    "**Category 2: Learning Style**\n",
    "- **Online Learning**: The model learns incrementally, processing data as it arrives.\n",
    "- **Batch Learning**: The model is trained on the entire dataset at once.\n",
    "\n",
    "**Category 3: Generalization Approach**\n",
    "- **Instance-based**: The system learns by comparing new data to known instances (e.g., k-nearest neighbors).\n",
    "- **Model-based**: The system builds a general model from the data and makes predictions based on that model.\n",
    "---"
   ]
  },
  {
   "cell_type": "markdown",
   "metadata": {},
   "source": [
    "## Category One: Training Supervision\n",
    "\n",
    "### Supervised Learning\n",
    "\n",
    "In supervised learning, the model is provided with both input data (features) and the corresponding desired output—either a **target** in the case of regression or a **label** in classification tasks. The model learns to map the input to the output.\n",
    "\n",
    "### Unsupervised Learning\n",
    "\n",
    "Unsupervised learning only uses input data, with no labels or targets. The model tries to find patterns or relationships within the data. Common tasks include:\n",
    "\n",
    "- **Clustering**: Grouping data based on similarities (e.g., customer segmentation).\n",
    "- **Dimensionality Reduction**: Simplifying data by reducing the number of features while retaining meaningful information. For instance, merging car mileage and age into a single feature representing \"wear and tear.\"\n",
    "- **Anomaly Detection**: Identifying unusual or rare data points, useful for fraud detection or fault detection.\n",
    "- **Association Rule Learning**: Discovering interesting relationships between variables in large datasets (e.g., market basket analysis).\n",
    "\n",
    "Unsupervised learning can also involve **visualization algorithms**, like t-SNE, which highlight patterns or clusters in data by projecting high-dimensional data into lower dimensions.\n",
    "\n",
    "- **Anomaly Detection vs. Novelty Detection**: \n",
    "  - **Anomaly detection** finds unusual data points, whether known or unknown anomalies.\n",
    "  - **Novelty detection** focuses on identifying completely new, unexpected behaviors by recognizing deviations from the normal patterns learned during training.\n",
    "\n",
    "For better performance and efficiency, reducing the number of dimensions can lower computational costs and memory usage.\n"
   ]
  },
  {
   "cell_type": "markdown",
   "metadata": {},
   "source": [
    "<div style=\"text-align: center;\">\n",
    "    <img src=\"Sources/Figure 1-7. An unlabeled training set for unsupervised learning.png\" alt=\"Figure 1-7. An unlabeled training set for unsupervised learning\" width=\"500\" height=\"300\"/>\n",
    "</div>\n"
   ]
  },
  {
   "cell_type": "markdown",
   "metadata": {},
   "source": [
    "\n",
    "<div style=\"text-align: center;\">\n",
    "    <img src=\"Sources/Figure 1-8. Clustering.png\" alt=\"Figure 1-8. Clustering\" width=\"500\" height=\"300\"/>\n",
    "</div>"
   ]
  },
  {
   "cell_type": "markdown",
   "metadata": {},
   "source": [
    "\n",
    "<div style=\"text-align: center;\">\n",
    "    <img src=\"Sources/Figure 1-9. Example of a t-SNE visualization highlighting semantic clusters.png\" alt=\"Figure 1-11. Semi-supervised learning with two classes\" width=\"500\" height=\"300\"/>\n",
    "</div>"
   ]
  },
  {
   "cell_type": "markdown",
   "metadata": {},
   "source": [
    "\n",
    "---\n",
    "\n",
    "### Semi-Supervised Learning\n",
    "\n",
    "In semi-supervised learning, the dataset contains a small amount of labeled data and a large amount of unlabeled data. The model aims to predict labels for the unlabeled data by leveraging the available labeled data. Many semi-supervised algorithms combine supervised and unsupervised techniques.\n",
    "\n",
    "For example, a clustering algorithm may group similar instances together, and then each unlabeled instance can be assigned the most common label in its cluster. Once the entire dataset is labeled, standard supervised learning methods can be applied.\n",
    "\n",
    "**Example**: Google Photos uses semi-supervised learning to organize and label images by combining some labeled data with unlabeled images.\n"
   ]
  },
  {
   "cell_type": "markdown",
   "metadata": {},
   "source": [
    "\n",
    "<div style=\"text-align: center;\">\n",
    "    <img src=\"Sources/Figure 1-11. Semi-supervised learning with two classes.png\" alt=\"Figure 1-11. Semi-supervised learning with two classes\" width=\"500\" height=\"300\"/>\n",
    "</div>"
   ]
  },
  {
   "cell_type": "markdown",
   "metadata": {},
   "source": [
    "\n",
    "---\n",
    "\n",
    "### Self-Supervised Learning\n",
    "\n",
    "Self-supervised learning involves generating labels from an entirely unlabeled dataset. Once labels are generated, the model can be trained using supervised learning techniques. \n",
    "\n",
    "In this approach, a portion of the data is intentionally masked or removed, and the modified data is used as input while the original data serves as the target. The model is then trained to predict the missing information. Successful reconstruction indicates that the model has learned important patterns and relationships in the data. After this pretraining phase, the model can be applied to other tasks, such as classification, by fine-tuning it on a labeled dataset.\n",
    "\n",
    "This process often involves **transfer learning**, where the knowledge gained from one task is transferred to another. Transfer learning, especially in deep neural networks (which have many layers), is a key technique in modern machine learning and will be covered in more detail later.\n",
    "\n",
    "While self-supervised learning uses unlabeled data, it differs from unsupervised learning (which includes tasks like clustering and dimensionality reduction) because it generates labels, bringing it closer to supervised learning. Due to this unique nature, it is best considered its own category."
   ]
  },
  {
   "cell_type": "markdown",
   "metadata": {},
   "source": [
    "\n",
    "---\n",
    "\n",
    "### Reinforcement Learning\n",
    "\n",
    "In reinforcement learning, an agent learns by interacting with an environment. The algorithm receives **rewards** for correct actions or decisions and **penalties** for incorrect ones. The goal is to maximize cumulative rewards over time by improving the decision-making process.\n",
    "\n",
    "The strategy the model follows to make decisions is called a **policy**. The policy determines the best action to take in a given situation to maximize rewards. See Figure 1-13 for a visual representation of how reinforcement learning works.\n"
   ]
  },
  {
   "cell_type": "markdown",
   "metadata": {},
   "source": [
    "<div style=\"text-align: center;\">\n",
    "    <img src=\"Sources/Figure 1-13. Reinforcement learning.png\" alt=\"Figure 1-13. Reinforcement learning\" width=\"500\" height=\"300\"/>\n",
    "</div>\n"
   ]
  },
  {
   "cell_type": "markdown",
   "metadata": {},
   "source": [
    "## Category two: Batch Versus Online Learning"
   ]
  },
  {
   "cell_type": "markdown",
   "metadata": {},
   "source": [
    "### Offline learning / Batch learning:\n",
    "\n",
    "In this approach, the model is trained on the entire dataset at once, and the fully trained model is then used in applications. However, because it does not learn incrementally, its performance will degrade over time—a phenomenon known as model rot or data drift. The rate of decay depends on the task. For example, a model classifying cats and dogs may degrade more slowly compared to a model predicting stock prices.\n",
    "\n",
    "As a result, all models, even a cat classifier, need to be re-trained eventually (e.g., if people start dressing their pets in new ways). Re-training involves training the model from scratch on a dataset that includes both old and new data. As shown in Figure 1-3, this process can be automated, but it can also be time-consuming and resource-intensive, which is especially problematic for tasks like stock price prediction.\n"
   ]
  },
  {
   "cell_type": "markdown",
   "metadata": {},
   "source": [
    "<div style=\"text-align: center;\">\n",
    "    <img src=\"Sources/Figure 1-3. Automatically adapting to change.png\" alt=\"Figure 1-3. Automatically adapting to change\" width=\"500\" height=\"300\"/>\n",
    "</div>\n"
   ]
  },
  {
   "cell_type": "markdown",
   "metadata": {},
   "source": [
    "\n",
    "Re-training requires significant computational resources, making it a challenge. An alternative approach to this is online learning.\n"
   ]
  },
  {
   "cell_type": "markdown",
   "metadata": {},
   "source": [
    "### Online Learning\n",
    "\n",
    "Online learning trains a system incrementally by feeding it data sequentially, either one instance at a time or in small mini-batches. Each learning step is quick and efficient, allowing the system to adapt to new data in real-time.\n",
    "\n",
    "- It enables rapid adaptation to changes.\n",
    "- Suitable for limited computing resources.\n",
    "- Can handle large datasets that don’t fit in memory (out-of-core learning), by loading and processing data in chunks until complete.\n",
    "\n",
    "The learning rate determines how fast the system adapts:\n",
    "- A high learning rate quickly adapts but forgets old data.\n",
    "- A low learning rate provides stability but reacts slower and is less affected by noise or outliers.\n",
    "\n",
    "A key challenge is performance decay when bad data is introduced. To mitigate this, monitor the system, disable learning if necessary, and use anomaly detection for abnormal data inputs."
   ]
  },
  {
   "cell_type": "markdown",
   "metadata": {},
   "source": [
    "### Category three: Instance-Based Versus Model-Based Learning"
   ]
  },
  {
   "cell_type": "markdown",
   "metadata": {},
   "source": [
    "### Instance-Based Learning\n",
    "\n",
    "Instance-based learning involves memorizing examples and generalizing to new cases based on their similarity to the stored examples. In the context of a spam filter, instead of just flagging identical emails, the system could flag emails that are similar to known spam. A basic similarity measure could be the number of shared words between emails.\n",
    "\n",
    "This approach classifies new data by comparing it to stored instances and applying a similarity measure to make predictions. For example, if most similar instances are flagged as spam, the new instance would also be flagged."
   ]
  },
  {
   "cell_type": "markdown",
   "metadata": {},
   "source": [
    "### Model-Based Learning and Typical Machine Learning Workflow\n",
    "\n",
    "In model-based learning, the system builds a model from data and uses it to make predictions. For example, to study if money affects happiness, we could model life satisfaction as a linear function of GDP per capita, using parameters θ0 and θ1 to represent the relationship.\n",
    "\n",
    "#### Steps in Model-Based Learning:\n",
    "1. **Data Collection**: Gather data (e.g., GDP per capita and life satisfaction for different countries).\n",
    "2. **Model Selection**: Choose a model, such as a linear regression.\n",
    "3. **Training**: Run an algorithm to find the best parameters (θ0 and θ1) by minimizing a cost function (e.g., the difference between predictions and actual data).\n",
    "4. **Prediction**: Apply the trained model to make predictions on new data.\n",
    "\n",
    "#### Example:\n",
    "Using a linear regression model (Equation 1-1), we can predict Cyprus’s life satisfaction from its GDP per capita. If Cyprus’s GDP per capita is $37,655, the model estimates life satisfaction around 6.30.\n",
    "\n",
    "\n"
   ]
  },
  {
   "cell_type": "markdown",
   "metadata": {},
   "source": [
    "<div style=\"text-align: left;\">\n",
    "    <img src=\"Sources/Equation 1-1. A simple linear model.png\" alt=\"Equation 1-1. A simple linear model\" width=\"250\" height=\"100\"/>\n",
    "</div>\n"
   ]
  },
  {
   "cell_type": "markdown",
   "metadata": {},
   "source": [
    "Simple means, the model only has one feature, is first polynomial degree. by finding the best theta parameters we can fit best model to out dataset. finally the model predict from this Equation. to find the best value for parameters, cost function is used which measures the distance between the linear model’s predictions and the training examples; the objective is to minimize this distance."
   ]
  },
  {
   "cell_type": "code",
   "execution_count": 1,
   "metadata": {},
   "outputs": [
    {
     "data": {
      "image/png": "[encoded data removed]",
      "text/plain": [
       "<Figure size 640x480 with 1 Axes>"
      ]
     },
     "metadata": {},
     "output_type": "display_data"
    },
    {
     "name": "stdout",
     "output_type": "stream",
     "text": [
      "[[6.30165767]]\n"
     ]
    }
   ],
   "source": [
    "import matplotlib.pyplot as plt\n",
    "import numpy as np\n",
    "import pandas as pd\n",
    "from sklearn.linear_model import LinearRegression\n",
    "# Download and prepare the data\n",
    "data_root = \"https://github.com/ageron/data/raw/main/\"\n",
    "lifesat = pd.read_csv(data_root + \"lifesat/lifesat.csv\")\n",
    "X = lifesat[[\"GDP per capita (USD)\"]].values\n",
    "y = lifesat[[\"Life satisfaction\"]].values\n",
    "# Visualize the data\n",
    "lifesat.plot(kind='scatter', grid=True,\n",
    "x=\"GDP per capita (USD)\", y=\"Life satisfaction\")\n",
    "plt.axis([23_500, 62_500, 4, 9])\n",
    "plt.show()\n",
    "# Select a linear model\n",
    "model = LinearRegression()\n",
    "# Train the model\n",
    "model.fit(X, y)\n",
    "# Make a prediction for Cyprus\n",
    "X_new = [[37_655.2]] # Cyprus' GDP per capita in 2020\n",
    "print(model.predict(X_new)) # output: [[6.30165767]]"
   ]
  },
  {
   "cell_type": "markdown",
   "metadata": {},
   "source": [
    "for instance based you can use k-nearest neighbors:"
   ]
  },
  {
   "cell_type": "code",
   "execution_count": 2,
   "metadata": {},
   "outputs": [
    {
     "name": "stdout",
     "output_type": "stream",
     "text": [
      "[[6.33333333]]\n"
     ]
    }
   ],
   "source": [
    "\n",
    "from sklearn.neighbors import KNeighborsRegressor\n",
    "\n",
    "model = KNeighborsRegressor(n_neighbors=3)\n",
    "# Train the model\n",
    "model.fit(X, y)\n",
    "# Make a prediction for Cyprus\n",
    "X_new = [[37_655.2]] # Cyprus' GDP per capita in 2020\n",
    "print(model.predict(X_new)) # output: [[6.30165767]]"
   ]
  },
  {
   "cell_type": "markdown",
   "metadata": {},
   "source": [
    "\n",
    "#### Workflow:\n",
    "1. Study the data.\n",
    "2. Select and train a model.\n",
    "3. Evaluate predictions (inference).\n",
    "4. Refine the model if necessary.\n",
    "\n",
    "This process defines a typical machine learning workflow, which you will practice in detail in later chapters."
   ]
  },
  {
   "cell_type": "markdown",
   "metadata": {},
   "source": [
    "if you are not satisfied you always can use more complex models (e.g., a polynomial regression model) or more features."
   ]
  },
  {
   "cell_type": "markdown",
   "metadata": {},
   "source": [
    "### Main Challenges of Machine Learning\n",
    "\n",
    "the two things that can go wrong are “bad model” and “bad data”. Let’s start with examples of bad data."
   ]
  },
  {
   "cell_type": "markdown",
   "metadata": {},
   "source": [
    "**Insufficient Quantity of Training Data**: While more data generally leads to better model performance, the claim that simple models can perform as well as complex ones is not always correct. This depends heavily on the task at hand. For example, in NLP (natural language processing), even so-called \"simple\" models, like Naive Bayes, are still relatively complex compared to something like linear regression. You can’t expect a simple model like linear regression to outperform a large neural network on complex tasks. Moreover, the advantage of more data is most evident with very large datasets, not with medium-sized ones."
   ]
  },
  {
   "cell_type": "markdown",
   "metadata": {},
   "source": [
    "**Nonrepresentative Training Data**: The book refers to this term in two scenarios. First, when the dataset is too small, it may fail to capture the full complexity of the task. For instance, with more data, it may become apparent that a simple linear model isn’t suitable for certain tasks. The second scenario involves **sampling bias**. For example, if data is collected through a survey targeting a specific group of people, the result could be biased and unrepresentative of the broader population. This bias can lead to misleading conclusions and prevent the model from generalizing well to all groups."
   ]
  },
  {
   "cell_type": "markdown",
   "metadata": {},
   "source": [
    "**Poor-Quality Data**: Sometimes the dataset collected contains bad or corrupted data. For example, if you're gathering temperature data from a weather station and the sensor is broken, it may record outliers or fail to capture data. In such cases, the model will optimize its weights based on incorrect or poor-quality data, leading to a poorly performing model that fails to generalize well. The book advises addressing these issues before training the model by cleaning the data—removing outliers or filling in missing values using methods like the median or average."
   ]
  },
  {
   "cell_type": "markdown",
   "metadata": {},
   "source": [
    "**Irrelevant Features**: Machine learning models try to find patterns in input data without understanding the actual relevance of features. For example, a student's favorite color has no logical connection to their math scores, but if such irrelevant data is provided, the model may still attempt to relate it, leading to poor results. The book introduces the concept of **feature engineering**, which involves refining and improving the data input to the model. This includes:\n",
    "\n",
    "- **Feature selection**: Identifying and selecting the most useful features for training.\n",
    "- **Feature extraction**: Combining or transforming existing features to create more meaningful ones, sometimes with the help of dimensionality reduction techniques.\n",
    "- **Creating new features**: Gathering additional data to generate new, potentially more relevant features.\n"
   ]
  },
  {
   "cell_type": "markdown",
   "metadata": {},
   "source": [
    "Now that we have looked at many examples of bad data, let’s look at a couple examples of bad algorithms."
   ]
  },
  {
   "cell_type": "markdown",
   "metadata": {},
   "source": [
    "**Overfitting the Training Data**: Overfitting occurs when a model is too complex and performs very well on the training data but struggles to generalize to new, unseen samples. The model essentially memorizes the training data, leading to errors when dealing with new inputs. The book uses an analogy: if you take a taxi in a new city and the driver is rude, you might wrongly conclude that all drivers in that city have bad attitudes. Similarly, a curvy regression model might fit the training data perfectly, but a small deviation in new data could result in a large prediction error due to the model's complexity.\n",
    "\n",
    "To address overfitting, you can either:\n",
    "- **Simplify the model**: Reducing the model's complexity by removing unnecessary parts.\n",
    "- **Use regularization**: Regularization helps find a balance by keeping some complexity while preventing overfitting. It works by adding a penalty term to the model, which discourages it from becoming too complex.\n",
    "\n",
    "Regularization is controlled by a **hyperparameter**, a constant that we set manually. Unlike model parameters (which the algorithm learns), hyperparameters are tuned by the user and are critical to building an effective machine learning model."
   ]
  },
  {
   "cell_type": "markdown",
   "metadata": {},
   "source": [
    "**Underfitting the Training Data**: Underfitting happens when a model is too simple to capture the underlying patterns in the data. As a result, it performs poorly even on the training data. For instance, using a linear model to predict life satisfaction can lead to underfitting because life satisfaction is influenced by complex factors, and a simple model won't be able to capture these complexities.\n",
    "\n",
    "To address underfitting, you can:\n",
    "- **Select a more powerful model**: Use a model with more parameters that can better capture the complexity of the data.\n",
    "- **Improve feature engineering**: Provide better or more relevant features to the model to enhance its learning.\n",
    "- **Reduce model constraints**: For instance, by lowering the regularization hyperparameter, you allow the model to fit the data more freely without overly penalizing complexity."
   ]
  },
  {
   "cell_type": "markdown",
   "metadata": {},
   "source": [
    "### Stepping Back\n",
    "\n",
    "After covering many machine learning concepts, it's helpful to revisit the big picture:\n",
    "\n",
    "- **Machine Learning** focuses on making machines improve at tasks by learning from data, rather than being explicitly programmed with rules.\n",
    "- **Types of ML Systems**: There are various kinds of machine learning systems, such as supervised or unsupervised, batch or online learning, and instance-based or model-based systems.\n",
    "- In an **ML project**, you gather a training set and feed it to a learning algorithm. A **model-based** algorithm adjusts parameters to fit the model to the training data, aiming to generalize well to new data. An **instance-based** algorithm memorizes examples and generalizes by comparing new instances to the stored examples using a similarity measure.\n",
    "- The system's performance depends on the quality of the data and the model. A small, unrepresentative, noisy, or irrelevant dataset will lead to poor outcomes (\"garbage in, garbage out\"). Additionally, the model needs to be balanced: neither too simple (which causes underfitting) nor too complex (which causes overfitting). \n",
    "\n",
    "This recap ties together the fundamental concepts of ML, ensuring you focus on data quality and the right balance of model complexity."
   ]
  },
  {
   "cell_type": "markdown",
   "metadata": {},
   "source": [
    "### Testing and Validating \n",
    "\n",
    "When building a machine learning model, you can’t rely on intuition to gauge its performance—objective measures are needed to assess how well the model generalizes and how accurate it is. This is done through **testing and validating** by splitting the available data into two parts: a **train set** and a **test set**. As the names suggest, the train set is used to build the model, while the test set contains unseen data used to evaluate the model’s performance.\n",
    "\n",
    "The error measured on the test set is called the **generalization error** or **out-of-sample error**, which reflects how well the model performs on new, unseen data. A typical split is 80% for training and 20% for testing, but this can vary, especially with large datasets where a 99% to 1% split might suffice.\n",
    "\n",
    "While this gives a basic understanding, there’s much more to model validation, such as **cross-validation**, which the book introduces later. Cross-validation helps in assessing model performance more robustly by repeatedly splitting the data and averaging the results to reduce variability."
   ]
  },
  {
   "cell_type": "markdown",
   "metadata": {},
   "source": [
    "\n",
    "---\n",
    "\n",
    "### Hyperparameter Tuning and Model Selection \n",
    "\n",
    "Initially, we split the dataset into a training set and a test set, but this approach has a limitation. Suppose you're trying to choose between models, each with different hyperparameters (e.g., regularization). If you train and evaluate each model using the test set, the model may perform well on both the training and test sets but fail to generalize to new, unseen data. This happens because you've effectively adapted the model to the test set.\n",
    "\n",
    "To avoid this, it's recommended to use an additional split called a **validation set** (also called the development or dev set). The process involves training your model on the training set, tuning hyperparameters based on performance on the validation set, and repeating this until you find the best model. Once you have the model with the lowest validation error, you evaluate its generalization performance using the test set.\n",
    "\n",
    "However, there are potential issues with the validation set approach. If the validation set is too small, model evaluations can be inaccurate, leading to the selection of a suboptimal model. On the other hand, if the validation set is too large, the training set becomes smaller, and the final model (trained on the full dataset) may not reflect the models used during evaluation.\n",
    "\n",
    "To address this, **cross-validation** is used, where the data is split into multiple small validation sets. The model is trained and evaluated multiple times on different splits, and the performance is averaged. This provides a more accurate measure of model performance at the cost of increased training time."
   ]
  },
  {
   "cell_type": "markdown",
   "metadata": {},
   "source": [
    "<div style=\"text-align: center;\">\n",
    "    <img src=\"Sources/Figure 1-25. Model selection using holdout validation.png\" alt=\"Figure 1-25. Model selection using holdout validation\" width=\"500\" height=\"300\"/>\n",
    "</div>\n"
   ]
  },
  {
   "cell_type": "markdown",
   "metadata": {},
   "source": [
    "---\n",
    "\n",
    "### Data Mismatch\n",
    "\n",
    "**Data mismatch** occurs when the information we collect for training a model does not accurately represent the conditions or scenarios that the model will face in real-world applications. This can lead to significant performance issues. \n",
    "\n",
    "For example, in the book, the **flower picture** scenario illustrates this concept. When building an app that identifies flower species from photographs taken with a smartphone camera, developers might gather a vast number of flower images from the internet. However, these internet images can vary widely in resolution, size, lighting conditions, and angles, making them different from the pictures that users will actually take with the app. \n",
    "\n",
    "As a result, when we evaluate the model using a validation test, we cannot easily determine whether any errors are due to data mismatch (i.e., the training data not being representative of the real-world data) or overfitting (where the model performs well on training data but poorly on unseen data). \n",
    "\n",
    "To address this issue, Andrew Ng recommends creating a **train-dev set**, which consists of a subset of the training data that is representative of the actual use case. This train-dev set should be drawn from the same source as the training data (e.g., internet flower images) but set aside specifically for evaluation. \n",
    "\n",
    "If the model performs well on this train-dev set, we can conclude that overfitting is likely not the problem. We can then evaluate the model using the validation set, which should contain representative data for the task at hand. If the results are acceptable, we can move on to the test set to assess the model’s generalization error, which indicates how well the model is expected to perform on new, unseen data in production.\n"
   ]
  },
  {
   "cell_type": "markdown",
   "metadata": {},
   "source": [
    "**No Free Lunch (NFL) Theorem**\n",
    "\n",
    "The **No Free Lunch (NFL) Theorem** states that there is no universally superior model for all datasets; the best model depends on the specific data characteristics. Thus, practitioners must make reasonable assumptions and evaluate various models to find the most effective one for a given task."
   ]
  }
 ],
 "metadata": {
  "kernelspec": {
   "display_name": "Python 3",
   "language": "python",
   "name": "python3"
  },
  "language_info": {
   "codemirror_mode": {
    "name": "ipython",
    "version": 3
   },
   "file_extension": ".py",
   "mimetype": "text/x-python",
   "name": "python",
   "nbconvert_exporter": "python",
   "pygments_lexer": "ipython3",
   "version": "3.12.4"
  }
 },
 "nbformat": 4,
 "nbformat_minor": 2
}
